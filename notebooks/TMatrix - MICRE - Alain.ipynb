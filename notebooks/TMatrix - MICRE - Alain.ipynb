{
 "cells": [
  {
   "cell_type": "code",
   "execution_count": 1,
   "metadata": {
    "ExecuteTime": {
     "end_time": "2020-04-06T05:16:13.123355Z",
     "start_time": "2020-04-06T05:16:11.979742Z"
    }
   },
   "outputs": [],
   "source": [
    "import os\n",
    "import glob\n",
    "import datetime\n",
    "import warnings\n",
    "\n",
    "warnings.simplefilter('ignore')\n",
    "\n",
    "# from multiprocessing import Pool\n",
    "import dask\n",
    "import dask.bag as db\n",
    "from dask.diagnostics import ProgressBar\n",
    "\n",
    "# Other packages\n",
    "import netCDF4\n",
    "import pytmatrix\n",
    "import numpy as np\n",
    "import xarray as xr\n",
    "import pandas as pd\n",
    "\n",
    "from netCDF4 import num2date, date2num\n",
    "from scipy import interpolate\n",
    "from pytmatrix import orientation, radar, tmatrix_aux, refractive\n",
    "from pytmatrix.psd import PSDIntegrator, GammaPSD\n",
    "from pytmatrix.tmatrix import TMatrix, Scatterer\n",
    "from pytmatrix.tmatrix_psd import TMatrixPSD, GammaPSD"
   ]
  },
  {
   "cell_type": "code",
   "execution_count": 2,
   "metadata": {
    "ExecuteTime": {
     "end_time": "2020-04-06T05:16:13.139294Z",
     "start_time": "2020-04-06T05:16:13.125820Z"
    }
   },
   "outputs": [],
   "source": [
    "def drop_axis_ratio(D_eq):\n",
    "    \"\"\"\n",
    "    Axis ratio of drops with respect to their diameter.\n",
    "\n",
    "    Parameter:\n",
    "    ==========\n",
    "        D_eq: float\n",
    "            Drop diameter.\n",
    "    Return:\n",
    "    =======\n",
    "        axratio: float\n",
    "            Axis ratio of drop.\n",
    "    \"\"\"\n",
    "    if D_eq < 0.7:\n",
    "        axratio = 1.0  # Spherical\n",
    "    elif D_eq < 1.5:\n",
    "        axratio = 1.173 - 0.5165 * D_eq + 0.4698 * D_eq**2 - 0.1317 * D_eq**3 - 8.5e-3 * D_eq**4\n",
    "    else:\n",
    "        axratio = 1.065 - 6.25e-2 * D_eq - 3.99e-3 * D_eq**2 + 7.66e-4 * D_eq**3 - 4.095e-5 * D_eq**4\n",
    "\n",
    "    return 1.0 / axratio\n",
    "\n",
    "\n",
    "def buffer(d_diameters, d_densities):\n",
    "    \n",
    "    if len(d_diameters) != len(d_densities):\n",
    "        print(len(d_diameters), len(d_densities))\n",
    "        raise IndexError(\"Not the same dim\")\n",
    "        \n",
    "    try:\n",
    "        dbz, zdr, kdp, atten_spec, atten_spec_v = scatter_off_2dvd_packed(d_diameters, d_densities)\n",
    "    except Exception:\n",
    "        raise\n",
    "    \n",
    "    return dbz, zdr, kdp, atten_spec, atten_spec_v\n",
    "\n",
    "\n",
    "def radar_band_name(wavelength):\n",
    "    \"\"\"\n",
    "\n",
    "    Parameters:\n",
    "    ===========\n",
    "        wavelength: float\n",
    "            Radar wavelength in mm.\n",
    "\n",
    "    Returns:\n",
    "    ========\n",
    "        freqband: str\n",
    "            Frequency band name.\n",
    "    \"\"\"\n",
    "\n",
    "    if wavelength >= 100:\n",
    "        return \"S\"\n",
    "    elif wavelength >= 40:\n",
    "        return \"C\"\n",
    "    elif wavelength >= 30:\n",
    "        return \"X\"\n",
    "    elif wavelength >= 20:\n",
    "        return \"Ku\"\n",
    "    elif wavelength >= 7:\n",
    "        return \"Ka\"\n",
    "    else:\n",
    "        return \"W\"\n",
    "\n",
    "    return None\n",
    "\n",
    "\n",
    "def scatter_off_2dvd_packed(d_diameters, d_densities):\n",
    "    \"\"\"\n",
    "    Computing the scattering properties of homogeneous nonspherical scatterers with the T-Matrix method.\n",
    "\n",
    "    Parameters:\n",
    "    ===========\n",
    "        d_diameters: array\n",
    "            Drop diameters in mm! (or else returns values won't be with proper units.)\n",
    "        d_densities: array\n",
    "            Drop densities.\n",
    "\n",
    "    Returns:\n",
    "    ========\n",
    "        dbz: array\n",
    "            Horizontal reflectivity.\n",
    "        zdr: array\n",
    "            Differential reflectivity.\n",
    "        kdp: array\n",
    "            Specific differential phase (deg/km).\n",
    "        atten_spec: array\n",
    "            Specific attenuation (dB/km).\n",
    "    \"\"\"\n",
    "    # Function interpolation.\n",
    "    mypds = interpolate.interp1d(d_diameters, d_densities, bounds_error=False, fill_value=0.0)\n",
    "    SCATTERER.psd = mypds  # GammaPSD(D0=2.0, Nw=1e3, mu=4)\n",
    "\n",
    "    # Obtaining reflectivity and ZDR.\n",
    "    dbz = 10 * np.log10(radar.refl(SCATTERER))  # in dBZ\n",
    "    zdr = 10 * np.log10(radar.Zdr(SCATTERER))  # in dB\n",
    "\n",
    "    # Specific attenuation and KDP.\n",
    "    SCATTERER.set_geometry(tmatrix_aux.geom_horiz_forw)\n",
    "    atten_spec = radar.Ai(SCATTERER)  # in dB/km\n",
    "    atten_spec_v = radar.Ai(SCATTERER, h_pol=False)  # in dB/km\n",
    "    kdp = radar.Kdp(SCATTERER)  # in deg/km\n",
    "\n",
    "    return dbz, zdr, kdp, atten_spec, atten_spec_v\n"
   ]
  },
  {
   "cell_type": "code",
   "execution_count": 3,
   "metadata": {
    "ExecuteTime": {
     "end_time": "2020-04-06T05:16:13.151436Z",
     "start_time": "2020-04-06T05:16:13.141111Z"
    }
   },
   "outputs": [],
   "source": [
    "def write_netcdf(outfilename, time, diameter, PSD_raw_count, dbz, zdr, kdp, atten_spec, atten_spec_v):\n",
    "    '''\n",
    "    Write output netCDF dataset.\n",
    "\n",
    "    Parameters:\n",
    "    ===========\n",
    "    outfilename: str\n",
    "    time: ndarray\n",
    "        time\n",
    "    diameter: ndarray\n",
    "        diameter\n",
    "    PSD_raw_count: ndarray\n",
    "        Concentration number\n",
    "    dbz: ndarray\n",
    "        Reflectivity\n",
    "    zdr: ndarray\n",
    "        Differential reflectivity\n",
    "    kdp: ndarray\n",
    "        Specific differential phase\n",
    "    atten_spec: ndarray\n",
    "        Specific attenuation\n",
    "    atten_spec_v: ndarray\n",
    "        Vertical specific attenuation \n",
    "    '''\n",
    "    dset = xr.Dataset({'time': (('time'), time),\n",
    "                        'diameter': (('diameter'), diameter),\n",
    "                        'concentration_number': ((\"time\", \"diameter\"), PSD_raw_count),\n",
    "                        'DBZ': (('time'), dbz),\n",
    "                        'ZDR': (('time'), zdr),\n",
    "                        'KDP': (('time'), kdp),\n",
    "                        'ATTEN_SPEC': (('time'), atten_spec),\n",
    "                        'ATTEN_SPEC_V': (('time'), atten_spec_v)})\n",
    "\n",
    "    dset.diameter.attrs['units'] = \"mm\"\n",
    "    dset.DBZ.attrs['units'] = \"dBZ\"\n",
    "    dset.ZDR.attrs['units'] = \"dB\"\n",
    "    dset.KDP.attrs['units'] = \"deg/km\"\n",
    "    dset.ATTEN_SPEC.attrs['units'] = \"dB/km\"\n",
    "    dset.ATTEN_SPEC_V.attrs['units'] = \"dB/km\"\n",
    "\n",
    "    dset.DBZ.attrs[\"description\"] = \"Horizontal reflectivity\"\n",
    "    dset.ZDR.attrs[\"description\"] = \"Differential reflectivity\"\n",
    "    dset.KDP.attrs[\"description\"] = \"Specific differential phase \"\n",
    "    dset.ATTEN_SPEC.attrs[\"description\"] = \"Specific attenuation for the horizontal reflectivity\"\n",
    "    dset.ATTEN_SPEC_V.attrs[\"description\"] = \"Specific attenuation for the vertical reflectivity\"\n",
    "\n",
    "    dset.to_netcdf(outfilename)\n",
    "\n",
    "    return None"
   ]
  },
  {
   "cell_type": "code",
   "execution_count": 4,
   "metadata": {
    "ExecuteTime": {
     "end_time": "2020-04-06T05:16:13.161994Z",
     "start_time": "2020-04-06T05:16:13.152797Z"
    }
   },
   "outputs": [],
   "source": [
    "def main(time, diameter_bin_size, PSD_raw_count, freq_band):\n",
    "    # Generating output file name:\n",
    "    letter_band = radar_band_name(freq_band)    \n",
    "    outfilename = os.path.join(OUTDIR, f'micre_{letter_band}-band_test.nc')    \n",
    "    if os.path.exists(outfilename):\n",
    "        print(\"Output file already exists. Doing nothing.\")\n",
    "        return None    \n",
    "\n",
    "    # Build argument list for multiprocessing.\n",
    "    myargs = [(diameter_bin_size, PSD_raw_count[cnt, :]) for cnt in range(0, len(PSD_raw_count))]\n",
    "    bag = db.from_sequence(myargs).starmap(buffer)\n",
    "    with ProgressBar():\n",
    "        rslt = bag.compute()\n",
    "\n",
    "    # Unpack and save results\n",
    "    dbz, zdr, kdp, atten_spec, atten_spec_v = zip(*rslt)\n",
    "    dbz = np.array(dbz)\n",
    "    zdr = np.array(zdr)\n",
    "    kdp = np.array(kdp)\n",
    "    atten_spec = np.array(atten_spec)\n",
    "    atten_spec_v = np.array(atten_spec_v)\n",
    "    print(\"T-Matrix computation finished.\")\n",
    "    \n",
    "    write_netcdf(outfilename, time, diameter_bin_size, PSD_raw_count, dbz, zdr, kdp, atten_spec, atten_spec_v)\n",
    "    print(\"Output file {} written.\".format(outfilename))        \n",
    "\n",
    "    return None"
   ]
  },
  {
   "cell_type": "code",
   "execution_count": 19,
   "metadata": {
    "ExecuteTime": {
     "end_time": "2020-04-06T05:21:13.446300Z",
     "start_time": "2020-04-06T05:21:12.540135Z"
    }
   },
   "outputs": [],
   "source": [
    "dsd_files = sorted(glob.glob('/g/data/kl02/vhl548/data_for_others/disdro2/mail_data/DSD*.txt'))\n",
    "PSD_raw_count = np.zeros((len(dsd_files), 32))\n",
    "time = [None] * len(dsd_files)\n",
    "for idx, f in enumerate(dsd_files):\n",
    "    PSD_raw_count[idx, :] = np.genfromtxt(f)\n",
    "\n",
    "time = pd.Series([pd.Timestamp(f[-12:-4]) for f in dsd_files])\n",
    "diameter_bin_size = np.genfromtxt('/g/data/kl02/vhl548/data_for_others/disdro2/mail_data/diameter_array.txt')"
   ]
  },
  {
   "cell_type": "code",
   "execution_count": 31,
   "metadata": {
    "ExecuteTime": {
     "end_time": "2020-04-06T05:24:22.991925Z",
     "start_time": "2020-04-06T05:23:58.547542Z"
    },
    "scrolled": false
   },
   "outputs": [
    {
     "name": "stdout",
     "output_type": "stream",
     "text": [
      "Looking at wavelength 111.0 mm.\n",
      "[########################################] | 100% Completed |  0.4s\n",
      "T-Matrix computation finished.\n",
      "Output file ./micre_S-band_test.nc written.\n",
      "Looking at wavelength 53.5 mm.\n",
      "[########################################] | 100% Completed |  0.4s\n",
      "T-Matrix computation finished.\n",
      "Output file ./micre_C-band_test.nc written.\n",
      "Looking at wavelength 33.3 mm.\n",
      "[########################################] | 100% Completed |  0.6s\n",
      "T-Matrix computation finished.\n",
      "Output file ./micre_X-band_test.nc written.\n",
      "Looking at wavelength 22.0 mm.\n",
      "[########################################] | 100% Completed |  0.4s\n",
      "T-Matrix computation finished.\n",
      "Output file ./micre_Ku-band_test.nc written.\n",
      "Looking at wavelength 8.43 mm.\n",
      "[########################################] | 100% Completed |  0.4s\n",
      "T-Matrix computation finished.\n",
      "Output file ./micre_Ka-band_test.nc written.\n",
      "Looking at wavelength 3.19 mm.\n",
      "[########################################] | 100% Completed |  0.4s\n",
      "T-Matrix computation finished.\n",
      "Output file ./micre_W-band_test.nc written.\n"
     ]
    }
   ],
   "source": [
    "TIME_UNIT = \"seconds since 1970-01-01 00:00\"\n",
    "OUTDIR = \".\"\n",
    "# if not os.path.isdir(OUTDIR):\n",
    "#     os.mkdir(OUTDIR)\n",
    "\n",
    "# Radar band in mm.\n",
    "for RADAR_BAND in [tmatrix_aux.wl_S, tmatrix_aux.wl_C, tmatrix_aux.wl_X, tmatrix_aux.wl_Ku, tmatrix_aux.wl_Ka, tmatrix_aux.wl_W]: #\n",
    "    print(\"Looking at wavelength {} mm.\".format(RADAR_BAND))\n",
    "    # Invoking T-Matrix scatterer.\n",
    "    SCATTERER = Scatterer(wavelength=RADAR_BAND, m=refractive.m_w_10C[RADAR_BAND])\n",
    "\n",
    "    # PSDIntegrator classfrom pytmatrix\n",
    "    SCATTERER.psd_integrator = PSDIntegrator()\n",
    "\n",
    "    # Defining the axis ratio of drops.\n",
    "    SCATTERER.psd_integrator.axis_ratio_func = lambda D: drop_axis_ratio(D)\n",
    "    SCATTERER.psd_integrator.D_max = 8\n",
    "    SCATTERER.psd_integrator.geometries = (tmatrix_aux.geom_horiz_back, tmatrix_aux.geom_horiz_forw)\n",
    "    SCATTERER.or_pdf = orientation.gaussian_pdf(10.0)\n",
    "    SCATTERER.orient = orientation.orient_averaged_fixed\n",
    "    SCATTERER.psd_integrator.init_scatter_table(SCATTERER)\n",
    "        \n",
    "    main(time, diameter_bin_size, PSD_raw_count, RADAR_BAND)\n",
    "#     flist = glob.glob(\"/g/data/kl02/vhl548/data_for_others/disdro2/*psd_na.txt\")    \n",
    "#     for infile in flist:    \n",
    "#         main(infile, RADAR_BAND)\n",
    "#         break"
   ]
  },
  {
   "cell_type": "code",
   "execution_count": 34,
   "metadata": {
    "ExecuteTime": {
     "end_time": "2020-04-06T05:25:27.888026Z",
     "start_time": "2020-04-06T05:25:27.746173Z"
    }
   },
   "outputs": [],
   "source": [
    "!mv *.nc data_OceanRAIN/"
   ]
  },
  {
   "cell_type": "code",
   "execution_count": null,
   "metadata": {},
   "outputs": [],
   "source": []
  }
 ],
 "metadata": {
  "kernelspec": {
   "display_name": "Python 3",
   "language": "python",
   "name": "python3"
  },
  "language_info": {
   "codemirror_mode": {
    "name": "ipython",
    "version": 3
   },
   "file_extension": ".py",
   "mimetype": "text/x-python",
   "name": "python",
   "nbconvert_exporter": "python",
   "pygments_lexer": "ipython3",
   "version": "3.8.1"
  },
  "varInspector": {
   "cols": {
    "lenName": 16,
    "lenType": 16,
    "lenVar": 40
   },
   "kernels_config": {
    "python": {
     "delete_cmd_postfix": "",
     "delete_cmd_prefix": "del ",
     "library": "var_list.py",
     "varRefreshCmd": "print(var_dic_list())"
    },
    "r": {
     "delete_cmd_postfix": ") ",
     "delete_cmd_prefix": "rm(",
     "library": "var_list.r",
     "varRefreshCmd": "cat(var_dic_list()) "
    }
   },
   "types_to_exclude": [
    "module",
    "function",
    "builtin_function_or_method",
    "instance",
    "_Feature"
   ],
   "window_display": false
  }
 },
 "nbformat": 4,
 "nbformat_minor": 4
}
